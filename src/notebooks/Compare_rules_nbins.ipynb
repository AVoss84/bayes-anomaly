{
 "cells": [
  {
   "cell_type": "markdown",
   "metadata": {},
   "source": [
    "# Deep dive"
   ]
  },
  {
   "cell_type": "code",
   "execution_count": 39,
   "metadata": {},
   "outputs": [],
   "source": [
    "import numpy as np\n",
    "import pandas as pd\n",
    "from scipy.integrate import simpson\n",
    "from scipy.stats import iqr\n",
    "from astropy.stats import scott_bin_width, knuth_bin_width, freedman_bin_width, bayesian_blocks\n",
    "import matplotlib.pyplot as plt\n",
    "from importlib import reload\n",
    "from bhad import model, utils"
   ]
  },
  {
   "cell_type": "code",
   "execution_count": 33,
   "metadata": {},
   "outputs": [
    {
     "name": "stdout",
     "output_type": "stream",
     "text": [
      "Acceptance rate: 0.462\n",
      "\n",
      "23\n",
      "(22, 22, 22)\n"
     ]
    }
   ],
   "source": [
    "grid = np.linspace(-4,4,100)\n",
    "\n",
    "N = 1*10**3\n",
    "\n",
    "# Draw a sample via Accept/Reject sampling:\n",
    "#-------------------------------------------\n",
    "y = utils.rbartsim(MCsim = N, seed = None, verbose = True)\n",
    "\n",
    "gamma_grid = np.linspace(1e-4,1-1e-4, 50)\n",
    "\n",
    "# Square root choice:\n",
    "h_sq = np.ceil(np.sqrt(N))\n",
    "prior_max_M = min(int(0.3*N), int(h_sq))\n",
    "#print(prior_max_M)   # https://en.wikipedia.org/wiki/Histogram\n",
    "\n",
    "#----------------------------------------------------------------------------\n",
    "log_marg_prior_nbins = {}\n",
    "for m in range(1, prior_max_M, 1):\n",
    "    \n",
    "    prior = np.array([utils.geometric_prior(M = m, gamma = g, max_M = prior_max_M, log = False) for g in gamma_grid])\n",
    "\n",
    "    area = simpson(utils.exp_normalize(prior), gamma_grid)\n",
    "    #area = simpson(prior, gamma_grid)\n",
    "    \n",
    "    log_marg_prior_nbins[m] = np.log(1e-10 + area)\n",
    "\n",
    "log_marg_post = {m : log_marg_prior_nbins[m] + utils.log_marglike_nbins(M = m, y = y) for m in range(1, prior_max_M, 1)}\n",
    "#log_marg_post = {m : utils.log_marglike_nbins(M = m, y = y) for m in range(1, prior_max_M, 1)}   # uniform prior\n",
    "\n",
    "# Compute K_MAP for each feature:\n",
    "#---------------------------------\n",
    "opt_M = max(log_marg_post, key=log_marg_post.get)\n",
    "print(opt_M)\n",
    "\n",
    "post = utils.exp_normalize(np.array(list(log_marg_post.values())))\n",
    "lpost = list(log_marg_post.values())\n",
    "xx = np.array(list(log_marg_post.keys()))\n",
    "\n",
    "#-----------------------------\n",
    "# Credible interval of number of bins:\n",
    "#-------------------------------\n",
    "sig_level = 0.05\n",
    "upper = np.sum(np.cumsum(post) <= (1-(sig_level/2))) \n",
    "lower = np.sum(np.cumsum(post) <= sig_level/2)\n",
    "median = np.sum(np.cumsum(post) <= 0.5)\n",
    "\n",
    "#opt_M = np.argmax(post) + 1\n",
    "\n",
    "#print(opt_M)\n",
    "print((lower, median, upper))"
   ]
  },
  {
   "cell_type": "code",
   "execution_count": 34,
   "metadata": {},
   "outputs": [
    {
     "data": {
      "image/png": "[encoded data removed]",
      "text/plain": [
       "<Figure size 540x400 with 1 Axes>"
      ]
     },
     "metadata": {},
     "output_type": "display_data"
    }
   ],
   "source": [
    "fig = plt.figure(figsize=(5.4,4))\n",
    "ax = plt.axes()\n",
    "\n",
    "#s = xx - 1\n",
    "#s = xx[(xx > 20) & (xx < 80)]\n",
    "s = xx[(xx > 40)] - 1\n",
    "\n",
    "#ax.plot(xx, post)\n",
    "ax.plot(s, post[s], '--', linewidth=1)\n",
    "#ax.bar(s, post)\n",
    "ax.bar(s, post[s])\n",
    "#ax.scatter(s, pr)\n",
    "ax.axvline(x = lower, color = 'red',linestyle = '--', linewidth=0.8, label = f'{int((1-sig_level)*100)}% HPD')\n",
    "ax.axvline(x = upper, color = 'red',linestyle = '--', linewidth=0.8)\n",
    "ax.set_xlabel('Number of bins')\n",
    "ax.set_ylabel('Probability')\n",
    "ax.legend(loc=\"upper left\")\n",
    "ax.set_title('Posterior mass function of K')\n",
    "fig.savefig('post_k.png')   # save the figure to file\n",
    "plt.show();\n",
    "plt.close(fig)    # close the figure window"
   ]
  },
  {
   "cell_type": "code",
   "execution_count": 35,
   "metadata": {},
   "outputs": [
    {
     "name": "stdout",
     "output_type": "stream",
     "text": [
      "\n",
      "MAP number of bins: 23\n",
      "Freedman-Diaconis rule: 17\n",
      "Sturges rule: 21\n",
      "Scotts rule: 13\n"
     ]
    }
   ],
   "source": [
    "from scipy.stats import iqr\n",
    "from astropy.stats import scott_bin_width, knuth_bin_width, freedman_bin_width, bayesian_blocks\n",
    "\n",
    "N = len(y)\n",
    "\n",
    "print(f'\\nMAP number of bins: {opt_M}')\n",
    "\n",
    "# Freedman-Diaconis rule:\n",
    "bw = 2*iqr(y)*N**(-1/3)\n",
    "FD = (max(y) - min(y))/bw\n",
    "opt_fd = int(FD)\n",
    "print(f'Freedman-Diaconis rule: {opt_fd}')\n",
    "\n",
    "# Sturges:\n",
    "opt_sturges = int(1 + 3.322*np.log(N))\n",
    "print(f'Sturges rule: {opt_sturges}')\n",
    "\n",
    "# Scott's normal reference rule:\n",
    "#h = (3.49*np.std(y))/(N)**(1/3)     # bin width\n",
    "h_scott = scott_bin_width(y)\n",
    "opt_scott = int((max(y)-min(y))/h_scott)\n",
    "print(f\"Scotts rule: {opt_scott}\")         # https://en.wikipedia.org/wiki/Histogram\n",
    "\n",
    "# Square root choice:\n",
    "#h_sq = np.ceil(np.sqrt(N))\n",
    "#opt_sq = int(h_sq)\n",
    "#print(int(h_sq))\n",
    "\n",
    "\n",
    "# MAP with uniform prior on nbins:\n",
    "h_knuth = knuth_bin_width(y)\n",
    "opt_knuth = int((max(y)-min(y))/h_knuth)\n",
    "#print(f\"Knuths rule: {opt_knuth}\")         # https://arxiv.org/pdf/physics/0605197.pdf\n"
   ]
  },
  {
   "cell_type": "code",
   "execution_count": 36,
   "metadata": {},
   "outputs": [
    {
     "data": {
      "image/png": "[encoded data removed]",
      "text/plain": [
       "<Figure size 640x480 with 1 Axes>"
      ]
     },
     "metadata": {},
     "output_type": "display_data"
    }
   ],
   "source": [
    "y_true = utils.bart_simpson_density(grid)\n",
    "\n",
    "fig = plt.figure()\n",
    "\n",
    "# create the histogram\n",
    "counts1, bins1, patches1 = plt.hist(y, bins=opt_M + 1, density=True, facecolor='b', alpha=0.2, label='Estimate'); main = 'Bayes'\n",
    "counts2, bins2, patches2 = plt.hist(y, bins=opt_fd + 1, density=True, facecolor='b', alpha=0.2, label='Estimate'); main = 'Freedman-Diaconis'\n",
    "counts3, bins3, patches3 = plt.hist(y, bins=opt_sturges + 1, density=True, facecolor='b', alpha=0.2, label='Estimate'); main = 'Sturges'\n",
    "counts4, bins4, patches4 = plt.hist(y, bins=opt_scott + 1, density=True, facecolor='b', alpha=0.2, label='Estimate'); main = 'Scott'\n",
    "\n",
    "plt.plot(grid, y_true, linestyle='dashed', label='True')\n",
    "plt.xlabel('x')\n",
    "plt.ylabel('Density')\n",
    "plt.legend()\n",
    "plt.title(r'True density and estimate '+f\"({main})\")    #  with Bayes estimate number of bins\n",
    "fig.savefig(f'est_Bart_{main}.png')   # save the figure to file\n",
    "\n",
    "plt.show();\n",
    "plt.close(fig)    # close the figure window"
   ]
  },
  {
   "cell_type": "code",
   "execution_count": 37,
   "metadata": {},
   "outputs": [
    {
     "data": {
      "text/plain": [
       "array([0.01099, 0.01383, 0.008  , 0.01207])"
      ]
     },
     "execution_count": 37,
     "metadata": {},
     "output_type": "execute_result"
    }
   ],
   "source": [
    "\n",
    "ord1, ord2, ord3, ord4 = [], [], [], []\n",
    "for x in grid:\n",
    "    \n",
    "    if np.any(bins1 <= x):\n",
    "        bucket_index1 = np.max(np.where(bins1 <= x))\n",
    "        ord1.append(counts1[bucket_index1-1])\n",
    "    else:\n",
    "        ord1.append(counts1[0])\n",
    "\n",
    "    if np.any(bins2 <= x):\n",
    "        bucket_index2 = np.max(np.where(bins2 <= x))\n",
    "        ord2.append(counts2[bucket_index2-1])\n",
    "    else:\n",
    "        ord2.append(counts2[0])\n",
    "\n",
    "    if np.any(bins3 <= x):\n",
    "        bucket_index3 = np.max(np.where(bins3 <= x))\n",
    "        ord3.append(counts3[bucket_index3-1])\n",
    "    else:\n",
    "        ord3.append(counts3[0])\n",
    "        \n",
    "    if np.any(bins4 <= x):\n",
    "        bucket_index4 = np.max(np.where(bins4 <= x))\n",
    "        ord4.append(counts4[bucket_index4-1])\n",
    "    else:\n",
    "        ord4.append(counts4[0])\n",
    "\n",
    "        \n",
    "df = pd.DataFrame()\n",
    "df['x'] = grid\n",
    "#df['ytrue'] = y_true\n",
    "df['mse1'] = (y_true-ord1)**2    # Bayes\n",
    "df['mse2'] = (y_true-ord2)**2    # Freedman\n",
    "df['mse3'] = (y_true-ord3)**2    # Sturges\n",
    "df['mse4'] = (y_true-ord4)**2    # Scott\n",
    "\n",
    "np.round(np.mean(df.values, axis=0)[1:],5)        "
   ]
  },
  {
   "cell_type": "code",
   "execution_count": 38,
   "metadata": {},
   "outputs": [
    {
     "name": "stdout",
     "output_type": "stream",
     "text": [
      "23 17 21 13\n"
     ]
    }
   ],
   "source": [
    "print(opt_M, opt_fd, opt_sturges, opt_scott)"
   ]
  },
  {
   "cell_type": "code",
   "execution_count": null,
   "metadata": {},
   "outputs": [],
   "source": []
  },
  {
   "cell_type": "code",
   "execution_count": 115,
   "metadata": {},
   "outputs": [],
   "source": [
    "from tqdm import tqdm \n",
    "\n",
    "def estimate_mise():\n",
    "\n",
    "    grid = np.linspace(-4,4,100)\n",
    "    grid_N = [100, 10**3, 10**4, 10**5]\n",
    "    y_true = utils.bart_simpson_density(grid)\n",
    "    res = np.empty((len(grid_N), 4))\n",
    "\n",
    "    for z, N in enumerate(tqdm(grid_N, total=len(grid_N))):\n",
    "                \n",
    "        # Draw a sample via Accept/Reject sampling:\n",
    "        #-------------------------------------------\n",
    "        y = utils.rbartsim(MCsim = N, seed = None, verbose = False)\n",
    "\n",
    "        gamma_grid = np.linspace(1e-4,1-1e-4, 50)\n",
    "\n",
    "        # Square root choice:\n",
    "        h_sq = np.ceil(np.sqrt(N))\n",
    "        prior_max_M = min(int(0.3*N), int(h_sq))\n",
    "        #print(prior_max_M)   # https://en.wikipedia.org/wiki/Histogram\n",
    "        #----------------------------------------------------------------------------\n",
    "        log_marg_prior_nbins = {}\n",
    "        for m in range(1, prior_max_M, 1):\n",
    "\n",
    "            prior = np.array([utils.geometric_prior(M = m, gamma = g, max_M = prior_max_M, log = False) for g in gamma_grid])\n",
    "\n",
    "            area = simpson(utils.exp_normalize(prior), gamma_grid)\n",
    "            #area = simpson(prior, gamma_grid)\n",
    "            log_marg_prior_nbins[m] = np.log(1e-10 + area)\n",
    "\n",
    "        log_marg_post = {m : log_marg_prior_nbins[m] + utils.log_marglike_nbins(M = m, y = y) for m in range(1, prior_max_M, 1)}\n",
    "        #log_marg_post = {m : utils.log_marglike_nbins(M = m, y = y) for m in range(1, prior_max_M, 1)}   # uniform prior\n",
    "\n",
    "        # Compute K_MAP for each feature:\n",
    "        #---------------------------------\n",
    "        opt_M = max(log_marg_post, key=log_marg_post.get)\n",
    "\n",
    "        #print(f'\\nMAP number of bins: {opt_M}')\n",
    "\n",
    "        # Freedman-Diaconis rule:\n",
    "        bw = 2*iqr(y)*N**(-1/3)\n",
    "        FD = (max(y) - min(y))/bw\n",
    "        opt_fd = int(FD)\n",
    "        #print(f'Freedman-Diaconis rule: {opt_fd}')\n",
    "\n",
    "        # Sturges:\n",
    "        opt_sturges = int(1 + 3.322*np.log(N))\n",
    "        #print(f'Sturges rule: {opt_sturges}')\n",
    "\n",
    "        # Scott's normal reference rule:\n",
    "        #h = (3.49*np.std(y))/(N)**(1/3)     # bin width\n",
    "        h_scott = scott_bin_width(y)\n",
    "        opt_scott = int((max(y)-min(y))/h_scott)\n",
    "        #print(f\"Scotts rule: {opt_scott}\")         # https://en.wikipedia.org/wiki/Histogram\n",
    "\n",
    "        # Square root choice:\n",
    "        #h_sq = np.ceil(np.sqrt(N))\n",
    "        #opt_sq = int(h_sq)\n",
    "        #print(int(h_sq))\n",
    "\n",
    "        # MAP with uniform prior on nbins:\n",
    "        #h_knuth = knuth_bin_width(y)\n",
    "        #opt_knuth = int((max(y)-min(y))/h_knuth)\n",
    "        #print(f\"Knuths rule: {opt_knuth}\")         # https://arxiv.org/pdf/physics/0605197.pdf\n",
    "\n",
    "        # create the histogram\n",
    "        counts1, bins1, patches1 = plt.hist(y, bins=opt_M + 1, density=True, facecolor='b', alpha=0.2, label='Estimate'); main = 'Bayes'\n",
    "        counts2, bins2, patches2 = plt.hist(y, bins=opt_fd + 1, density=True, facecolor='b', alpha=0.2, label='Estimate'); main = 'Freedman-Diaconis'\n",
    "        counts3, bins3, patches3 = plt.hist(y, bins=opt_sturges + 1, density=True, facecolor='b', alpha=0.2, label='Estimate'); main = 'Sturges'\n",
    "        counts4, bins4, patches4 = plt.hist(y, bins=opt_scott + 1, density=True, facecolor='b', alpha=0.2, label='Estimate'); main = 'Scott'\n",
    "        plt.close();\n",
    "        #-------------------------------------------------------------------\n",
    "\n",
    "        ord1, ord2, ord3, ord4 = [], [], [], []\n",
    "        for x in grid:\n",
    "\n",
    "            if np.any(bins1 <= x):\n",
    "                bucket_index1 = np.max(np.where(bins1 <= x))\n",
    "                ord1.append(counts1[bucket_index1-1])\n",
    "            else:\n",
    "                ord1.append(counts1[0])\n",
    "\n",
    "            if np.any(bins2 <= x):\n",
    "                bucket_index2 = np.max(np.where(bins2 <= x))\n",
    "                ord2.append(counts2[bucket_index2-1])\n",
    "            else:\n",
    "                ord2.append(counts2[0])\n",
    "\n",
    "            if np.any(bins3 <= x):\n",
    "                bucket_index3 = np.max(np.where(bins3 <= x))\n",
    "                ord3.append(counts3[bucket_index3-1])\n",
    "            else:\n",
    "                ord3.append(counts3[0])\n",
    "\n",
    "            if np.any(bins4 <= x):\n",
    "                bucket_index4 = np.max(np.where(bins4 <= x))\n",
    "                ord4.append(counts4[bucket_index4-1])\n",
    "            else:\n",
    "                ord4.append(counts4[0])\n",
    "\n",
    "        df = pd.DataFrame()\n",
    "        df['x'] = grid\n",
    "        df['mse1'] = (y_true-ord1)**2    # Bayes\n",
    "        df['mse2'] = (y_true-ord2)**2    # Freedman\n",
    "        df['mse3'] = (y_true-ord3)**2    # Sturges\n",
    "        df['mse4'] = (y_true-ord4)**2    # Scott\n",
    "\n",
    "        res[z,:] = np.round(np.mean(df.values, axis=0)[1:],5)\n",
    "    #return pd.DataFrame(res, index=grid_N, columns=['Bayes', 'Freedman', 'Sturges', 'Scott'])\n",
    "    return res"
   ]
  },
  {
   "cell_type": "code",
   "execution_count": 116,
   "metadata": {},
   "outputs": [
    {
     "name": "stderr",
     "output_type": "stream",
     "text": [
      "100%|██████████| 4/4 [00:04<00:00,  1.17s/it]\n"
     ]
    },
    {
     "data": {
      "text/plain": [
       "array([[0.05137, 0.04319, 0.03894, 0.04026],\n",
       "       [0.01354, 0.01935, 0.01549, 0.01324],\n",
       "       [0.0091 , 0.0084 , 0.01427, 0.01375],\n",
       "       [0.00479, 0.00229, 0.01479, 0.00592]])"
      ]
     },
     "execution_count": 116,
     "metadata": {},
     "output_type": "execute_result"
    }
   ],
   "source": [
    "estimate_mise()"
   ]
  },
  {
   "cell_type": "code",
   "execution_count": 120,
   "metadata": {},
   "outputs": [
    {
     "name": "stderr",
     "output_type": "stream",
     "text": [
      "100%|██████████| 4/4 [00:03<00:00,  1.01it/s]\n",
      "100%|██████████| 4/4 [00:03<00:00,  1.06it/s]\n",
      "100%|██████████| 4/4 [00:04<00:00,  1.06s/it]\n",
      "100%|██████████| 4/4 [00:03<00:00,  1.00it/s]\n",
      "100%|██████████| 4/4 [00:03<00:00,  1.07it/s]\n",
      "100%|██████████| 4/4 [00:03<00:00,  1.07it/s]\n",
      "100%|██████████| 4/4 [00:04<00:00,  1.04s/it]\n",
      "100%|██████████| 4/4 [00:04<00:00,  1.00s/it]\n",
      "100%|██████████| 4/4 [00:03<00:00,  1.06it/s]\n",
      "100%|██████████| 4/4 [00:03<00:00,  1.03it/s]\n",
      "100%|██████████| 4/4 [00:04<00:00,  1.04s/it]\n"
     ]
    }
   ],
   "source": [
    "mc = estimate_mise()   # i=1\n",
    "Msim = 10\n",
    "for i in range(Msim):\n",
    "    mc = mc + estimate_mise()\n",
    "\n",
    "MISE = pd.DataFrame(mc/(1+Msim), index=grid_N, columns=['Bayes', 'Freedman', 'Sturges', 'Scott'])"
   ]
  },
  {
   "cell_type": "code",
   "execution_count": 121,
   "metadata": {},
   "outputs": [
    {
     "data": {
      "text/plain": [
       "array([[0.04363182, 0.03768182, 0.04313   , 0.04149273],\n",
       "       [0.01408091, 0.01502091, 0.01499   , 0.01177636],\n",
       "       [0.00995545, 0.00837364, 0.01533273, 0.01366636],\n",
       "       [0.00408818, 0.00249818, 0.01469818, 0.00554364]])"
      ]
     },
     "execution_count": 121,
     "metadata": {},
     "output_type": "execute_result"
    }
   ],
   "source": [
    "MISE"
   ]
  },
  {
   "cell_type": "code",
   "execution_count": null,
   "metadata": {},
   "outputs": [],
   "source": []
  }
 ],
 "metadata": {
  "kernelspec": {
   "display_name": "env_bhad:Python",
   "language": "python",
   "name": "conda-env-env_bhad-py"
  },
  "language_info": {
   "codemirror_mode": {
    "name": "ipython",
    "version": 3
   },
   "file_extension": ".py",
   "mimetype": "text/x-python",
   "name": "python",
   "nbconvert_exporter": "python",
   "pygments_lexer": "ipython3",
   "version": "3.8.16"
  },
  "vscode": {
   "interpreter": {
    "hash": "e0ceaa3e0bb11585253581539c57bfd2d704668eae902257c14b8a09b66167af"
   }
  }
 },
 "nbformat": 4,
 "nbformat_minor": 4
}
