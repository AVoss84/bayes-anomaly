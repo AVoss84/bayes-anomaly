{
 "cells": [
  {
   "cell_type": "markdown",
   "metadata": {},
   "source": [
    "# Deep dive"
   ]
  },
  {
   "cell_type": "code",
   "execution_count": 2,
   "metadata": {},
   "outputs": [],
   "source": [
    "import numpy as np\n",
    "import pandas as pd\n",
    "from scipy.integrate import simpson\n",
    "from scipy.stats import iqr\n",
    "from astropy.stats import scott_bin_width, knuth_bin_width, freedman_bin_width, bayesian_blocks\n",
    "import matplotlib.pyplot as plt\n",
    "from importlib import reload\n",
    "from bhad import model, utils"
   ]
  },
  {
   "cell_type": "code",
   "execution_count": 76,
   "metadata": {},
   "outputs": [
    {
     "name": "stdout",
     "output_type": "stream",
     "text": [
      "Acceptance rate: 0.4736\n",
      "\n",
      "38\n",
      "(33, 37, 41)\n"
     ]
    }
   ],
   "source": [
    "grid = np.linspace(-4,4,100)\n",
    "\n",
    "N = 5*10**3\n",
    "\n",
    "# Draw a sample via Accept/Reject sampling:\n",
    "#-------------------------------------------\n",
    "y = utils.rbartsim(MCsim = N, seed = None, verbose = True)\n",
    "\n",
    "gamma_grid = np.linspace(1e-4,1-1e-4, 50)\n",
    "\n",
    "# Square root choice:\n",
    "h_sq = np.ceil(np.sqrt(N))\n",
    "prior_max_M = min(int(0.3*N), int(h_sq))\n",
    "#print(prior_max_M)   # https://en.wikipedia.org/wiki/Histogram\n",
    "\n",
    "#----------------------------------------------------------------------------\n",
    "log_marg_prior_nbins = {}\n",
    "for m in range(1, prior_max_M, 1):\n",
    "    \n",
    "    prior = np.array([utils.geometric_prior(M = m, gamma = g, max_M = prior_max_M, log = False) for g in gamma_grid])\n",
    "\n",
    "    area = simpson(utils.exp_normalize(prior), gamma_grid)\n",
    "    #area = simpson(prior, gamma_grid)\n",
    "    \n",
    "    log_marg_prior_nbins[m] = np.log(1e-10 + area)\n",
    "\n",
    "log_marg_post = {m : log_marg_prior_nbins[m] + utils.log_marglike_nbins(M = m, y = y) for m in range(1, prior_max_M, 1)}\n",
    "#log_marg_post = {m : utils.log_marglike_nbins(M = m, y = y) for m in range(1, prior_max_M, 1)}   # uniform prior\n",
    "\n",
    "# Compute K_MAP for each feature:\n",
    "#---------------------------------\n",
    "opt_M = max(log_marg_post, key=log_marg_post.get)\n",
    "print(opt_M)\n",
    "\n",
    "post = utils.exp_normalize(np.array(list(log_marg_post.values())))\n",
    "lpost = list(log_marg_post.values())\n",
    "xx = np.array(list(log_marg_post.keys()))\n",
    "\n",
    "#-----------------------------\n",
    "# Credible interval of number of bins:\n",
    "#-------------------------------\n",
    "sig_level = 0.05\n",
    "upper = np.sum(np.cumsum(post) <= (1-(sig_level/2))) \n",
    "lower = np.sum(np.cumsum(post) <= sig_level/2)\n",
    "median = np.sum(np.cumsum(post) <= 0.5)\n",
    "\n",
    "#opt_M = np.argmax(post) + 1\n",
    "\n",
    "#print(opt_M)\n",
    "print((lower, median, upper))"
   ]
  },
  {
   "cell_type": "code",
   "execution_count": 85,
   "metadata": {},
   "outputs": [
    {
     "data": {
      "image/png": "[encoded data removed]",
      "text/plain": [
       "<Figure size 540x400 with 1 Axes>"
      ]
     },
     "metadata": {},
     "output_type": "display_data"
    }
   ],
   "source": [
    "fig = plt.figure(figsize=(5.4,4))\n",
    "ax = plt.axes()\n",
    "\n",
    "#s = xx - 1\n",
    "s = xx[(xx > 20) & (xx < 60)] - 1\n",
    "#s = xx[(xx > 20)] - 1\n",
    "\n",
    "#ax.plot(xx, post)\n",
    "ax.plot(s, post[s], '--', linewidth=1)\n",
    "#ax.bar(s, post)\n",
    "ax.bar(s, post[s])\n",
    "#ax.scatter(s, pr)\n",
    "ax.axvline(x = lower, color = 'red',linestyle = '--', linewidth=0.8, label = f'{int((1-sig_level)*100)}% HPD')\n",
    "ax.axvline(x = upper, color = 'red',linestyle = '--', linewidth=0.8)\n",
    "ax.set_xlabel('Number of bins')\n",
    "ax.set_ylabel('Probability')\n",
    "ax.legend(loc=\"upper left\")\n",
    "#ax.set_title('Posterior mass function of K')\n",
    "fig.savefig('post_k.png')   # save the figure to file\n",
    "plt.show();\n",
    "plt.close(fig)    # close the figure window"
   ]
  },
  {
   "cell_type": "code",
   "execution_count": 83,
   "metadata": {},
   "outputs": [
    {
     "name": "stdout",
     "output_type": "stream",
     "text": [
      "\n",
      "MAP number of bins: 38\n",
      "Freedman-Diaconis rule: 33\n",
      "Sturges rule: 26\n",
      "Scotts rule: 27\n"
     ]
    }
   ],
   "source": [
    "from scipy.stats import iqr\n",
    "from astropy.stats import scott_bin_width, knuth_bin_width, freedman_bin_width, bayesian_blocks\n",
    "\n",
    "N = len(y)\n",
    "\n",
    "print(f'\\nMAP number of bins: {opt_M}')\n",
    "\n",
    "# Freedman-Diaconis rule:\n",
    "bw = 2*iqr(y)*N**(-1/3)\n",
    "FD = (max(y) - min(y))/bw\n",
    "opt_fd = int(FD)\n",
    "print(f'Freedman-Diaconis rule: {opt_fd}')\n",
    "\n",
    "# Sturges:\n",
    "opt_sturges = int(1 + 3.322*np.log(N))\n",
    "print(f'Sturges rule: {opt_sturges}')\n",
    "\n",
    "# Scott's normal reference rule:\n",
    "#h = (3.49*np.std(y))/(N)**(1/3)     # bin width\n",
    "h_scott = scott_bin_width(y)\n",
    "opt_scott = int((max(y)-min(y))/h_scott)\n",
    "print(f\"Scotts rule: {opt_scott}\")         # https://en.wikipedia.org/wiki/Histogram\n",
    "\n",
    "# Square root choice:\n",
    "#h_sq = np.ceil(np.sqrt(N))\n",
    "#opt_sq = int(h_sq)\n",
    "#print(int(h_sq))\n",
    "\n",
    "\n",
    "# MAP with uniform prior on nbins:\n",
    "h_knuth = knuth_bin_width(y)\n",
    "opt_knuth = int((max(y)-min(y))/h_knuth)\n",
    "#print(f\"Knuths rule: {opt_knuth}\")         # https://arxiv.org/pdf/physics/0605197.pdf\n"
   ]
  },
  {
   "cell_type": "code",
   "execution_count": 84,
   "metadata": {},
   "outputs": [
    {
     "data": {
      "image/png": "[encoded data removed]",
      "text/plain": [
       "<Figure size 640x480 with 1 Axes>"
      ]
     },
     "metadata": {},
     "output_type": "display_data"
    }
   ],
   "source": [
    "y_true = utils.bart_simpson_density(grid)\n",
    "\n",
    "fig = plt.figure()\n",
    "\n",
    "# create the histogram\n",
    "counts1, bins1, patches1 = plt.hist(y, bins=opt_M + 1, density=True, facecolor='b', alpha=0.2, label='Estimate'); main = 'Bayes'\n",
    "#counts2, bins2, patches2 = plt.hist(y, bins=opt_fd + 1, density=True, facecolor='b', alpha=0.2, label='Estimate'); main = 'Freedman-Diaconis'\n",
    "#counts3, bins3, patches3 = plt.hist(y, bins=opt_sturges + 1, density=True, facecolor='b', alpha=0.2, label='Estimate'); main = 'Sturges'\n",
    "#counts4, bins4, patches4 = plt.hist(y, bins=opt_scott + 1, density=True, facecolor='b', alpha=0.2, label='Estimate'); main = 'Scott'\n",
    "\n",
    "plt.plot(grid, y_true, linestyle='dashed', label='True')\n",
    "plt.xlabel('x')\n",
    "plt.ylabel('Density')\n",
    "plt.legend()\n",
    "plt.title(r'True density and estimate '+f\"({main})\")    #  with Bayes estimate number of bins\n",
    "fig.savefig(f'est_Bart_{main}.png')   # save the figure to file\n",
    "\n",
    "plt.show();\n",
    "plt.close(fig)    # close the figure window"
   ]
  },
  {
   "cell_type": "code",
   "execution_count": 37,
   "metadata": {},
   "outputs": [
    {
     "data": {
      "text/plain": [
       "array([0.01099, 0.01383, 0.008  , 0.01207])"
      ]
     },
     "execution_count": 37,
     "metadata": {},
     "output_type": "execute_result"
    }
   ],
   "source": [
    "\n",
    "ord1, ord2, ord3, ord4 = [], [], [], []\n",
    "for x in grid:\n",
    "    \n",
    "    if np.any(bins1 <= x):\n",
    "        bucket_index1 = np.max(np.where(bins1 <= x))\n",
    "        ord1.append(counts1[bucket_index1-1])\n",
    "    else:\n",
    "        ord1.append(counts1[0])\n",
    "\n",
    "    if np.any(bins2 <= x):\n",
    "        bucket_index2 = np.max(np.where(bins2 <= x))\n",
    "        ord2.append(counts2[bucket_index2-1])\n",
    "    else:\n",
    "        ord2.append(counts2[0])\n",
    "\n",
    "    if np.any(bins3 <= x):\n",
    "        bucket_index3 = np.max(np.where(bins3 <= x))\n",
    "        ord3.append(counts3[bucket_index3-1])\n",
    "    else:\n",
    "        ord3.append(counts3[0])\n",
    "        \n",
    "    if np.any(bins4 <= x):\n",
    "        bucket_index4 = np.max(np.where(bins4 <= x))\n",
    "        ord4.append(counts4[bucket_index4-1])\n",
    "    else:\n",
    "        ord4.append(counts4[0])\n",
    "\n",
    "        \n",
    "df = pd.DataFrame()\n",
    "df['x'] = grid\n",
    "#df['ytrue'] = y_true\n",
    "df['mse1'] = (y_true-ord1)**2    # Bayes\n",
    "df['mse2'] = (y_true-ord2)**2    # Freedman\n",
    "df['mse3'] = (y_true-ord3)**2    # Sturges\n",
    "df['mse4'] = (y_true-ord4)**2    # Scott\n",
    "\n",
    "np.round(np.mean(df.values, axis=0)[1:],5)        "
   ]
  },
  {
   "cell_type": "code",
   "execution_count": 38,
   "metadata": {},
   "outputs": [
    {
     "name": "stdout",
     "output_type": "stream",
     "text": [
      "23 17 21 13\n"
     ]
    }
   ],
   "source": [
    "print(opt_M, opt_fd, opt_sturges, opt_scott)"
   ]
  },
  {
   "cell_type": "code",
   "execution_count": null,
   "metadata": {},
   "outputs": [],
   "source": []
  },
  {
   "cell_type": "code",
   "execution_count": 41,
   "metadata": {},
   "outputs": [],
   "source": [
    "from tqdm import tqdm \n",
    "\n",
    "def estimate_mise():\n",
    "\n",
    "    grid = np.linspace(-4,4,100)     # grid of x-values\n",
    "    grid_N = [10, 10**2, 10**3, 10**4, 10**5]\n",
    "    y_true = utils.bart_simpson_density(grid)      # true/target density values!\n",
    "    res = np.empty((len(grid_N), 4))\n",
    "\n",
    "    for z, N in enumerate(tqdm(grid_N, total=len(grid_N))):\n",
    "                \n",
    "        # Draw a sample via Accept/Reject sampling:\n",
    "        #-------------------------------------------\n",
    "        y = utils.rbartsim(MCsim = N, seed = None, verbose = False)\n",
    "\n",
    "        gamma_grid = np.linspace(1e-4,1-1e-4, 50)\n",
    "\n",
    "        # Square root choice:\n",
    "        h_sq = np.ceil(np.sqrt(N))\n",
    "        prior_max_M = min(int(0.3*N), int(h_sq))\n",
    "        #print(prior_max_M)   # https://en.wikipedia.org/wiki/Histogram\n",
    "        #----------------------------------------------------------------------------\n",
    "        log_marg_prior_nbins = {}\n",
    "        for m in range(1, prior_max_M, 1):\n",
    "\n",
    "            prior = np.array([utils.geometric_prior(M = m, gamma = g, max_M = prior_max_M, log = False) for g in gamma_grid])\n",
    "\n",
    "            area = simpson(utils.exp_normalize(prior), gamma_grid)\n",
    "            #area = simpson(prior, gamma_grid)\n",
    "            log_marg_prior_nbins[m] = np.log(1e-10 + area)\n",
    "\n",
    "        log_marg_post = {m : log_marg_prior_nbins[m] + utils.log_marglike_nbins(M = m, y = y) for m in range(1, prior_max_M, 1)}\n",
    "        #log_marg_post = {m : utils.log_marglike_nbins(M = m, y = y) for m in range(1, prior_max_M, 1)}   # uniform prior\n",
    "\n",
    "        # Compute K_MAP for each feature:\n",
    "        #---------------------------------\n",
    "        opt_M = max(log_marg_post, key=log_marg_post.get)\n",
    "\n",
    "        #print(f'\\nMAP number of bins: {opt_M}')\n",
    "\n",
    "        # Freedman-Diaconis rule:\n",
    "        bw = 2*iqr(y)*N**(-1/3)\n",
    "        FD = (max(y) - min(y))/bw\n",
    "        opt_fd = int(FD)\n",
    "        #print(f'Freedman-Diaconis rule: {opt_fd}')\n",
    "\n",
    "        # Sturges:\n",
    "        opt_sturges = int(1 + 3.322*np.log(N))\n",
    "        #print(f'Sturges rule: {opt_sturges}')\n",
    "\n",
    "        # Scott's normal reference rule:\n",
    "        #h = (3.49*np.std(y))/(N)**(1/3)     # bin width\n",
    "        h_scott = scott_bin_width(y)\n",
    "        opt_scott = int((max(y)-min(y))/h_scott)\n",
    "        #print(f\"Scotts rule: {opt_scott}\")         # https://en.wikipedia.org/wiki/Histogram\n",
    "\n",
    "        # Square root choice:\n",
    "        #h_sq = np.ceil(np.sqrt(N))\n",
    "        #opt_sq = int(h_sq)\n",
    "        #print(int(h_sq))\n",
    "\n",
    "        # MAP with uniform prior on nbins:\n",
    "        #h_knuth = knuth_bin_width(y)\n",
    "        #opt_knuth = int((max(y)-min(y))/h_knuth)\n",
    "        #print(f\"Knuths rule: {opt_knuth}\")         # https://arxiv.org/pdf/physics/0605197.pdf\n",
    "\n",
    "        # create the histogram\n",
    "        counts1, bins1, patches1 = plt.hist(y, bins=opt_M + 1, density=True, facecolor='b', alpha=0.2, label='Estimate'); main = 'Bayes'\n",
    "        counts2, bins2, patches2 = plt.hist(y, bins=opt_fd + 1, density=True, facecolor='b', alpha=0.2, label='Estimate'); main = 'Freedman-Diaconis'\n",
    "        counts3, bins3, patches3 = plt.hist(y, bins=opt_sturges + 1, density=True, facecolor='b', alpha=0.2, label='Estimate'); main = 'Sturges'\n",
    "        counts4, bins4, patches4 = plt.hist(y, bins=opt_scott + 1, density=True, facecolor='b', alpha=0.2, label='Estimate'); main = 'Scott'\n",
    "        plt.close();\n",
    "        #-------------------------------------------------------------------\n",
    "\n",
    "        ord1, ord2, ord3, ord4 = [], [], [], []\n",
    "        for x in grid:\n",
    "\n",
    "            if np.any(bins1 <= x):\n",
    "                bucket_index1 = np.max(np.where(bins1 <= x))\n",
    "                ord1.append(counts1[bucket_index1-1])\n",
    "            else:\n",
    "                ord1.append(counts1[0])\n",
    "\n",
    "            if np.any(bins2 <= x):\n",
    "                bucket_index2 = np.max(np.where(bins2 <= x))\n",
    "                ord2.append(counts2[bucket_index2-1])\n",
    "            else:\n",
    "                ord2.append(counts2[0])\n",
    "\n",
    "            if np.any(bins3 <= x):\n",
    "                bucket_index3 = np.max(np.where(bins3 <= x))\n",
    "                ord3.append(counts3[bucket_index3-1])\n",
    "            else:\n",
    "                ord3.append(counts3[0])\n",
    "\n",
    "            if np.any(bins4 <= x):\n",
    "                bucket_index4 = np.max(np.where(bins4 <= x))\n",
    "                ord4.append(counts4[bucket_index4-1])\n",
    "            else:\n",
    "                ord4.append(counts4[0])\n",
    "\n",
    "        df = pd.DataFrame()\n",
    "        df['x'] = grid\n",
    "        df['mse1'] = (y_true-ord1)**2    # Bayes\n",
    "        df['mse2'] = (y_true-ord2)**2    # Freedman\n",
    "        df['mse3'] = (y_true-ord3)**2    # Sturges\n",
    "        df['mse4'] = (y_true-ord4)**2    # Scott\n",
    "\n",
    "        res[z,:] = np.round(np.mean(df.values, axis=0)[1:],5)\n",
    "    return pd.DataFrame(res, index=grid_N, columns=['Bayes', 'Freedman', 'Sturges', 'Scott'])\n",
    "    #return res"
   ]
  },
  {
   "cell_type": "code",
   "execution_count": 42,
   "metadata": {},
   "outputs": [
    {
     "name": "stderr",
     "output_type": "stream",
     "text": [
      "100%|██████████| 5/5 [00:07<00:00,  1.46s/it]\n"
     ]
    },
    {
     "data": {
      "text/html": [
       "<div>\n",
       "<style scoped>\n",
       "    .dataframe tbody tr th:only-of-type {\n",
       "        vertical-align: middle;\n",
       "    }\n",
       "\n",
       "    .dataframe tbody tr th {\n",
       "        vertical-align: top;\n",
       "    }\n",
       "\n",
       "    .dataframe thead th {\n",
       "        text-align: right;\n",
       "    }\n",
       "</style>\n",
       "<table border=\"1\" class=\"dataframe\">\n",
       "  <thead>\n",
       "    <tr style=\"text-align: right;\">\n",
       "      <th></th>\n",
       "      <th>Bayes</th>\n",
       "      <th>Freedman</th>\n",
       "      <th>Sturges</th>\n",
       "      <th>Scott</th>\n",
       "    </tr>\n",
       "  </thead>\n",
       "  <tbody>\n",
       "    <tr>\n",
       "      <th>10</th>\n",
       "      <td>0.18733</td>\n",
       "      <td>0.40482</td>\n",
       "      <td>3.97739</td>\n",
       "      <td>0.14369</td>\n",
       "    </tr>\n",
       "    <tr>\n",
       "      <th>100</th>\n",
       "      <td>0.03083</td>\n",
       "      <td>0.02252</td>\n",
       "      <td>0.02658</td>\n",
       "      <td>0.02758</td>\n",
       "    </tr>\n",
       "    <tr>\n",
       "      <th>1000</th>\n",
       "      <td>0.01411</td>\n",
       "      <td>0.01057</td>\n",
       "      <td>0.01765</td>\n",
       "      <td>0.01282</td>\n",
       "    </tr>\n",
       "    <tr>\n",
       "      <th>10000</th>\n",
       "      <td>0.01403</td>\n",
       "      <td>0.00838</td>\n",
       "      <td>0.01489</td>\n",
       "      <td>0.01522</td>\n",
       "    </tr>\n",
       "    <tr>\n",
       "      <th>100000</th>\n",
       "      <td>0.00294</td>\n",
       "      <td>0.00227</td>\n",
       "      <td>0.01351</td>\n",
       "      <td>0.00539</td>\n",
       "    </tr>\n",
       "  </tbody>\n",
       "</table>\n",
       "</div>"
      ],
      "text/plain": [
       "          Bayes  Freedman  Sturges    Scott\n",
       "10      0.18733   0.40482  3.97739  0.14369\n",
       "100     0.03083   0.02252  0.02658  0.02758\n",
       "1000    0.01411   0.01057  0.01765  0.01282\n",
       "10000   0.01403   0.00838  0.01489  0.01522\n",
       "100000  0.00294   0.00227  0.01351  0.00539"
      ]
     },
     "execution_count": 42,
     "metadata": {},
     "output_type": "execute_result"
    }
   ],
   "source": [
    "estimate_mise()"
   ]
  },
  {
   "cell_type": "code",
   "execution_count": 51,
   "metadata": {},
   "outputs": [
    {
     "name": "stderr",
     "output_type": "stream",
     "text": [
      "100%|██████████| 5/5 [00:05<00:00,  1.20s/it]\n",
      "100%|██████████| 5/5 [00:05<00:00,  1.11s/it]\n",
      "100%|██████████| 5/5 [00:04<00:00,  1.06it/s]\n",
      "100%|██████████| 5/5 [00:04<00:00,  1.15it/s]\n",
      "100%|██████████| 5/5 [00:04<00:00,  1.18it/s]\n",
      "100%|██████████| 5/5 [00:05<00:00,  1.10s/it]\n",
      "100%|██████████| 5/5 [00:04<00:00,  1.19it/s]\n",
      "100%|██████████| 5/5 [00:04<00:00,  1.24it/s]\n",
      "100%|██████████| 5/5 [00:04<00:00,  1.19it/s]\n",
      "100%|██████████| 5/5 [00:03<00:00,  1.28it/s]\n",
      "100%|██████████| 5/5 [00:03<00:00,  1.27it/s]\n",
      "100%|██████████| 5/5 [00:04<00:00,  1.19it/s]\n",
      "100%|██████████| 5/5 [00:04<00:00,  1.18it/s]\n",
      "100%|██████████| 5/5 [00:03<00:00,  1.30it/s]\n",
      "100%|██████████| 5/5 [00:05<00:00,  1.05s/it]\n",
      "100%|██████████| 5/5 [00:05<00:00,  1.09s/it]\n",
      "100%|██████████| 5/5 [00:06<00:00,  1.25s/it]\n",
      "100%|██████████| 5/5 [00:04<00:00,  1.01it/s]\n",
      "100%|██████████| 5/5 [00:04<00:00,  1.03it/s]\n",
      "100%|██████████| 5/5 [00:06<00:00,  1.25s/it]\n",
      "100%|██████████| 5/5 [00:04<00:00,  1.00it/s]\n",
      "100%|██████████| 5/5 [00:05<00:00,  1.14s/it]\n",
      "100%|██████████| 5/5 [00:05<00:00,  1.07s/it]\n",
      "100%|██████████| 5/5 [00:05<00:00,  1.19s/it]\n",
      "100%|██████████| 5/5 [00:05<00:00,  1.03s/it]\n",
      "100%|██████████| 5/5 [00:05<00:00,  1.00s/it]\n",
      "100%|██████████| 5/5 [00:04<00:00,  1.01it/s]\n",
      "100%|██████████| 5/5 [00:06<00:00,  1.23s/it]\n",
      "100%|██████████| 5/5 [00:07<00:00,  1.53s/it]\n",
      "100%|██████████| 5/5 [00:06<00:00,  1.37s/it]\n",
      "100%|██████████| 5/5 [00:04<00:00,  1.20it/s]\n"
     ]
    }
   ],
   "source": [
    "mc = estimate_mise()   # i=1\n",
    "Msim = 30\n",
    "for i in range(Msim):\n",
    "    mc = mc + estimate_mise()\n",
    "\n",
    "MISE = pd.DataFrame(mc.values/(1+Msim), index=mc.index, columns=['Bayes', 'Freedman', 'Sturges', 'Scott'])"
   ]
  },
  {
   "cell_type": "code",
   "execution_count": 88,
   "metadata": {},
   "outputs": [
    {
     "data": {
      "text/html": [
       "<div>\n",
       "<style scoped>\n",
       "    .dataframe tbody tr th:only-of-type {\n",
       "        vertical-align: middle;\n",
       "    }\n",
       "\n",
       "    .dataframe tbody tr th {\n",
       "        vertical-align: top;\n",
       "    }\n",
       "\n",
       "    .dataframe thead th {\n",
       "        text-align: right;\n",
       "    }\n",
       "</style>\n",
       "<table border=\"1\" class=\"dataframe\">\n",
       "  <thead>\n",
       "    <tr style=\"text-align: right;\">\n",
       "      <th></th>\n",
       "      <th>Bayes</th>\n",
       "      <th>Freedman</th>\n",
       "      <th>Sturges</th>\n",
       "      <th>Scott</th>\n",
       "    </tr>\n",
       "  </thead>\n",
       "  <tbody>\n",
       "    <tr>\n",
       "      <th>10</th>\n",
       "      <td>2.827439</td>\n",
       "      <td>6.419966</td>\n",
       "      <td>53.198350</td>\n",
       "      <td>2.819482</td>\n",
       "    </tr>\n",
       "    <tr>\n",
       "      <th>100</th>\n",
       "      <td>0.044934</td>\n",
       "      <td>0.034404</td>\n",
       "      <td>0.041184</td>\n",
       "      <td>0.040835</td>\n",
       "    </tr>\n",
       "    <tr>\n",
       "      <th>1000</th>\n",
       "      <td>0.014002</td>\n",
       "      <td>0.015380</td>\n",
       "      <td>0.016192</td>\n",
       "      <td>0.012415</td>\n",
       "    </tr>\n",
       "    <tr>\n",
       "      <th>10000</th>\n",
       "      <td>0.009712</td>\n",
       "      <td>0.008512</td>\n",
       "      <td>0.014781</td>\n",
       "      <td>0.013847</td>\n",
       "    </tr>\n",
       "    <tr>\n",
       "      <th>100000</th>\n",
       "      <td>0.003515</td>\n",
       "      <td>0.002394</td>\n",
       "      <td>0.014644</td>\n",
       "      <td>0.005486</td>\n",
       "    </tr>\n",
       "  </tbody>\n",
       "</table>\n",
       "</div>"
      ],
      "text/plain": [
       "           Bayes  Freedman    Sturges     Scott\n",
       "10      2.827439  6.419966  53.198350  2.819482\n",
       "100     0.044934  0.034404   0.041184  0.040835\n",
       "1000    0.014002  0.015380   0.016192  0.012415\n",
       "10000   0.009712  0.008512   0.014781  0.013847\n",
       "100000  0.003515  0.002394   0.014644  0.005486"
      ]
     },
     "execution_count": 88,
     "metadata": {},
     "output_type": "execute_result"
    }
   ],
   "source": [
    "MISE"
   ]
  },
  {
   "cell_type": "code",
   "execution_count": 55,
   "metadata": {},
   "outputs": [
    {
     "data": {
      "image/png": "[encoded data removed]",
      "text/plain": [
       "<Figure size 640x480 with 1 Axes>"
      ]
     },
     "metadata": {},
     "output_type": "display_data"
    }
   ],
   "source": [
    "import matplotlib.pyplot as plt\n",
    "\n",
    "plt.plot(np.log(MISE.index.values), np.log(MISE['Bayes'].values), '-o', color='red', label='Bayes')\n",
    "plt.plot(np.log(MISE.index.values), np.log(MISE['Freedman'].values), '--*', color='blue', label='Freedman-Diaconis')\n",
    "plt.plot(np.log(MISE.index.values), np.log(MISE['Sturges'].values), '--*', color='black', label='Sturges')\n",
    "plt.plot(np.log(MISE.index.values), np.log(MISE['Scott'].values), '--*', color='orange', label='Scott')\n",
    "plt.ylabel(\"log(MISE)\")\n",
    "plt.xlabel(\"log(N)\")\n",
    "#plt.title('Mean Integrated Squared Errors')\n",
    "#plt.plot(MISE.index.values, MISE['Bayes'], '-o', color='red', label='Bayes')\n",
    "#plt.plot(MISE.index.values, MISE['Freedman'], '--*', color='blue', label='Freedman-Diaconis')\n",
    "#plt.plot(MISE.index.values, MISE['Sturges'], '--*', color='black', label='Sturges')\n",
    "#plt.plot(MISE.index.values, MISE['Scott'], '--*', color='orange', label='Scott')\n",
    "\n",
    "plt.legend()\n",
    "#plt.savefig('MISE.png')   # save the figure to file\n",
    "plt.show();\n",
    "plt.close(fig)    # close the figure window"
   ]
  },
  {
   "cell_type": "code",
   "execution_count": 95,
   "metadata": {},
   "outputs": [
    {
     "data": {
      "text/html": [
       "<div>\n",
       "<style scoped>\n",
       "    .dataframe tbody tr th:only-of-type {\n",
       "        vertical-align: middle;\n",
       "    }\n",
       "\n",
       "    .dataframe tbody tr th {\n",
       "        vertical-align: top;\n",
       "    }\n",
       "\n",
       "    .dataframe thead th {\n",
       "        text-align: right;\n",
       "    }\n",
       "</style>\n",
       "<table border=\"1\" class=\"dataframe\">\n",
       "  <thead>\n",
       "    <tr style=\"text-align: right;\">\n",
       "      <th></th>\n",
       "      <th>Bayes</th>\n",
       "      <th>Freedman</th>\n",
       "      <th>Sturges</th>\n",
       "      <th>Scott</th>\n",
       "    </tr>\n",
       "  </thead>\n",
       "  <tbody>\n",
       "    <tr>\n",
       "      <th>0</th>\n",
       "      <td>0.57992</td>\n",
       "      <td>1.29613</td>\n",
       "      <td>10.65703</td>\n",
       "      <td>0.57841</td>\n",
       "    </tr>\n",
       "  </tbody>\n",
       "</table>\n",
       "</div>"
      ],
      "text/plain": [
       "     Bayes  Freedman   Sturges    Scott\n",
       "0  0.57992   1.29613  10.65703  0.57841"
      ]
     },
     "execution_count": 95,
     "metadata": {},
     "output_type": "execute_result"
    }
   ],
   "source": [
    "# Overall MISE:\n",
    "pd.DataFrame(np.round(np.mean(MISE.values, axis=0),5), index=['Bayes', 'Freedman', 'Sturges', 'Scott']).T"
   ]
  },
  {
   "cell_type": "code",
   "execution_count": null,
   "metadata": {},
   "outputs": [],
   "source": []
  }
 ],
 "metadata": {
  "kernelspec": {
   "display_name": "env_bhad:Python",
   "language": "python",
   "name": "conda-env-env_bhad-py"
  },
  "language_info": {
   "codemirror_mode": {
    "name": "ipython",
    "version": 3
   },
   "file_extension": ".py",
   "mimetype": "text/x-python",
   "name": "python",
   "nbconvert_exporter": "python",
   "pygments_lexer": "ipython3",
   "version": "3.8.16"
  },
  "vscode": {
   "interpreter": {
    "hash": "e0ceaa3e0bb11585253581539c57bfd2d704668eae902257c14b8a09b66167af"
   }
  }
 },
 "nbformat": 4,
 "nbformat_minor": 4
}
