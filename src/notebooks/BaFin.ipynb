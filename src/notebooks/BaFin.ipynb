{
 "cells": [
  {
   "cell_type": "code",
   "execution_count": 1,
   "id": "ee40addb-4e3c-4b44-806d-f5f3cb663d5f",
   "metadata": {},
   "outputs": [],
   "source": [
    "from sklearn.datasets import load_breast_cancer\n",
    "from sklearn.model_selection import train_test_split\n",
    "from sklearn.preprocessing import StandardScaler\n",
    "import numpy as np\n",
    "\n",
    "data = load_breast_cancer(as_frame=True)\n",
    "\n",
    "X, y = data.data, data.target\n",
    "\n",
    "p_male = .4\n",
    "np.random.seed(42)\n",
    "gender = np.random.binomial(1, p_male, X.shape[0]).astype(bool)"
   ]
  },
  {
   "cell_type": "code",
   "execution_count": 2,
   "id": "251125ee-5966-4de8-abfe-df3f01802a33",
   "metadata": {},
   "outputs": [
    {
     "data": {
      "text/plain": [
       "(array([0, 1]), array([ 84, 157]))"
      ]
     },
     "execution_count": 2,
     "metadata": {},
     "output_type": "execute_result"
    }
   ],
   "source": [
    "np.unique(y[gender], return_counts=True)"
   ]
  },
  {
   "cell_type": "code",
   "execution_count": 3,
   "id": "7c9b1a7f-1490-4ee1-adbc-fd44db209d9b",
   "metadata": {},
   "outputs": [],
   "source": [
    "X_train, X_test, y_train, y_test = train_test_split(X, y, test_size = 0.3, random_state = 42, stratify = y)\n",
    "\n",
    "scaler = StandardScaler()\n",
    "X_train = scaler.fit_transform(X_train)\n",
    "X_test = scaler.transform(X_test)"
   ]
  },
  {
   "cell_type": "code",
   "execution_count": 4,
   "id": "f61dd76d-bcb6-433b-abef-257b00a3ba2c",
   "metadata": {},
   "outputs": [
    {
     "name": "stdout",
     "output_type": "stream",
     "text": [
      "1.0\n"
     ]
    },
    {
     "data": {
      "text/plain": [
       "0.9532163742690059"
      ]
     },
     "execution_count": 4,
     "metadata": {},
     "output_type": "execute_result"
    }
   ],
   "source": [
    "from sklearn.ensemble import GradientBoostingClassifier\n",
    "\n",
    "clf = GradientBoostingClassifier(n_estimators=100, learning_rate=1.0, max_depth=1, random_state=0).fit(X_train, y_train)\n",
    "\n",
    "print(clf.score(X_train, y_train))\n",
    "\n",
    "y_pred_train = clf.predict(X_train)\n",
    "\n",
    "clf.score(X_test, y_test)"
   ]
  },
  {
   "cell_type": "code",
   "execution_count": 5,
   "id": "b4632ce7-bf89-4ff3-aa7d-2848492b3f25",
   "metadata": {},
   "outputs": [
    {
     "data": {
      "text/plain": [
       "1    157\n",
       "0     84\n",
       "Name: target, dtype: int64"
      ]
     },
     "execution_count": 5,
     "metadata": {},
     "output_type": "execute_result"
    }
   ],
   "source": [
    "y[gender].value_counts()"
   ]
  },
  {
   "cell_type": "code",
   "execution_count": 6,
   "id": "08ca80b5-b9ac-4c83-8a29-df2297acdfa7",
   "metadata": {},
   "outputs": [
    {
     "data": {
      "image/png": "[encoded data removed]",
      "text/plain": [
       "<Figure size 432x288 with 1 Axes>"
      ]
     },
     "metadata": {
      "needs_background": "light"
     },
     "output_type": "display_data"
    }
   ],
   "source": [
    "y[gender].hist();"
   ]
  },
  {
   "cell_type": "code",
   "execution_count": 7,
   "id": "de2a1e07-645b-44f1-9498-267096b8482e",
   "metadata": {},
   "outputs": [],
   "source": [
    "l, cnts = np.unique(y[gender], return_counts=True)"
   ]
  },
  {
   "cell_type": "code",
   "execution_count": 8,
   "id": "772fffb7-bb45-474f-aea0-de660f0028e4",
   "metadata": {},
   "outputs": [
    {
     "data": {
      "text/plain": [
       "241"
      ]
     },
     "execution_count": 8,
     "metadata": {},
     "output_type": "execute_result"
    }
   ],
   "source": [
    "np.sum(cnts)"
   ]
  },
  {
   "cell_type": "code",
   "execution_count": 9,
   "id": "df1a0615-7649-4c96-b160-a262f8251644",
   "metadata": {},
   "outputs": [],
   "source": [
    "#from scipy.stats import binomtest\n",
    "\n",
    "# perform the binomial test\n",
    "#p_value = binomtest(s1,  np.sum(cnts), p2)"
   ]
  },
  {
   "cell_type": "code",
   "execution_count": 12,
   "id": "0c57a868-8d94-45ac-88c4-fd3a1b1094f7",
   "metadata": {},
   "outputs": [],
   "source": [
    "import numpy as np\n",
    "import pandas as pd\n",
    "from scipy.stats import (chi2_contingency, chi2)\n",
    "\n",
    "def cramers_v(row_variable : np.array, column_variable: np.array, siglev : float = 0.05)-> dict:\n",
    "     \"\"\"\n",
    "     Calculate Cramer's V based on contingency row_variable (e.g. predicted labels) and column_variable (e.g. ground truth labels). \n",
    "     \"\"\"\n",
    "     n = len(row_variable)\n",
    "     # Create contingency table:\n",
    "     contingency = pd.crosstab(row_variable, column_variable, margins = False)\n",
    "     X2 = chi2_contingency(contingency, correction=True)[0]       # Chi2 test statistic with yates's correction for cont. approx.\n",
    "     minDim = min(contingency.shape[0]-1,contingency.shape[1]-1)\n",
    "     dof = (contingency.shape[0]-1)*(contingency.shape[1]-1)      \n",
    "     crit_val = chi2.ppf(1-siglev, dof)                        # critical value\n",
    "     # Calculate Cramer's V association measure:\n",
    "     cramers_v = np.sqrt((X2/n) / minDim)          # [0,1]\n",
    "     return {'CramersV' : np.round(cramers_v,5), 'Contingency': contingency, 'Statistic': X2, 'Critical': crit_val}   # right-sided alternative!\n"
   ]
  },
  {
   "cell_type": "code",
   "execution_count": 13,
   "id": "d38cf4fc-1d6c-4216-8c24-7e3ea1935511",
   "metadata": {},
   "outputs": [
    {
     "data": {
      "text/plain": [
       "{'CramersV': 0.99462,\n",
       " 'Contingency': target    0    1\n",
       " row_0           \n",
       " 0       148    0\n",
       " 1         0  250,\n",
       " 'Statistic': 393.73032373849526,\n",
       " 'Critical': 3.841458820694124}"
      ]
     },
     "execution_count": 13,
     "metadata": {},
     "output_type": "execute_result"
    }
   ],
   "source": [
    "result = cramers_v(row_variable = y_pred_train, column_variable = y_train)\n",
    "result"
   ]
  },
  {
   "cell_type": "code",
   "execution_count": 237,
   "id": "24cfbe42-5bf4-4736-ae31-b4766405e817",
   "metadata": {},
   "outputs": [
    {
     "data": {
      "text/plain": [
       "0.99462"
      ]
     },
     "execution_count": 237,
     "metadata": {},
     "output_type": "execute_result"
    }
   ],
   "source": [
    "result['CramersV']"
   ]
  },
  {
   "cell_type": "code",
   "execution_count": 233,
   "id": "3ea6bae9-a0f2-4d6b-8836-65a68b2bfd39",
   "metadata": {},
   "outputs": [
    {
     "data": {
      "text/html": [
       "<div>\n",
       "<style scoped>\n",
       "    .dataframe tbody tr th:only-of-type {\n",
       "        vertical-align: middle;\n",
       "    }\n",
       "\n",
       "    .dataframe tbody tr th {\n",
       "        vertical-align: top;\n",
       "    }\n",
       "\n",
       "    .dataframe thead th {\n",
       "        text-align: right;\n",
       "    }\n",
       "</style>\n",
       "<table border=\"1\" class=\"dataframe\">\n",
       "  <thead>\n",
       "    <tr style=\"text-align: right;\">\n",
       "      <th>target</th>\n",
       "      <th>0</th>\n",
       "      <th>1</th>\n",
       "      <th>All</th>\n",
       "    </tr>\n",
       "    <tr>\n",
       "      <th>row_0</th>\n",
       "      <th></th>\n",
       "      <th></th>\n",
       "      <th></th>\n",
       "    </tr>\n",
       "  </thead>\n",
       "  <tbody>\n",
       "    <tr>\n",
       "      <th>0</th>\n",
       "      <td>148</td>\n",
       "      <td>0</td>\n",
       "      <td>148</td>\n",
       "    </tr>\n",
       "    <tr>\n",
       "      <th>1</th>\n",
       "      <td>0</td>\n",
       "      <td>250</td>\n",
       "      <td>250</td>\n",
       "    </tr>\n",
       "    <tr>\n",
       "      <th>All</th>\n",
       "      <td>148</td>\n",
       "      <td>250</td>\n",
       "      <td>398</td>\n",
       "    </tr>\n",
       "  </tbody>\n",
       "</table>\n",
       "</div>"
      ],
      "text/plain": [
       "target    0    1  All\n",
       "row_0                \n",
       "0       148    0  148\n",
       "1         0  250  250\n",
       "All     148  250  398"
      ]
     },
     "execution_count": 233,
     "metadata": {},
     "output_type": "execute_result"
    }
   ],
   "source": [
    "contingency = pd.crosstab(y_pred_train, y_train, margins = True)\n",
    "contingency"
   ]
  },
  {
   "cell_type": "code",
   "execution_count": 219,
   "id": "b8097a47-7b3d-42fe-a093-ba77485cdf60",
   "metadata": {},
   "outputs": [
    {
     "data": {
      "text/plain": [
       "Index([0, 1, 'All'], dtype='object', name='target')"
      ]
     },
     "execution_count": 219,
     "metadata": {},
     "output_type": "execute_result"
    }
   ],
   "source": [
    "contingency.columns"
   ]
  },
  {
   "cell_type": "code",
   "execution_count": 223,
   "id": "e6313718-92ee-4832-b4f0-533a85582636",
   "metadata": {},
   "outputs": [
    {
     "data": {
      "text/plain": [
       "array([[148,   0, 148],\n",
       "       [  0, 250, 250],\n",
       "       [148, 250, 398]])"
      ]
     },
     "execution_count": 223,
     "metadata": {},
     "output_type": "execute_result"
    }
   ],
   "source": [
    "cont = contingency.values\n",
    "cont"
   ]
  },
  {
   "cell_type": "code",
   "execution_count": null,
   "id": "9600a5cf-fb00-457f-831e-496884b09f10",
   "metadata": {},
   "outputs": [],
   "source": [
    "cond_target"
   ]
  }
 ],
 "metadata": {
  "kernelspec": {
   "display_name": "Python 3 (ipykernel)",
   "language": "python",
   "name": "python3"
  },
  "language_info": {
   "codemirror_mode": {
    "name": "ipython",
    "version": 3
   },
   "file_extension": ".py",
   "mimetype": "text/x-python",
   "name": "python",
   "nbconvert_exporter": "python",
   "pygments_lexer": "ipython3",
   "version": "3.10.5"
  }
 },
 "nbformat": 4,
 "nbformat_minor": 5
}
